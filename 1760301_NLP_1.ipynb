{
  "nbformat": 4,
  "nbformat_minor": 0,
  "metadata": {
    "colab": {
      "name": "1760301_NLP_1",
      "provenance": [],
      "authorship_tag": "ABX9TyMZZ6hrFHyZv6shcFVdLdcE",
      "include_colab_link": true
    },
    "kernelspec": {
      "name": "python3",
      "display_name": "Python 3"
    }
  },
  "cells": [
    {
      "cell_type": "markdown",
      "metadata": {
        "id": "view-in-github",
        "colab_type": "text"
      },
      "source": [
        "<a href=\"https://colab.research.google.com/github/abhi19992/Word2Vec/blob/master/1760301_NLP_1.ipynb\" target=\"_parent\"><img src=\"https://colab.research.google.com/assets/colab-badge.svg\" alt=\"Open In Colab\"/></a>"
      ]
    },
    {
      "cell_type": "code",
      "metadata": {
        "id": "EVe7m6NzveK9",
        "colab_type": "code",
        "colab": {}
      },
      "source": [
        "import spacy\n"
      ],
      "execution_count": 0,
      "outputs": []
    },
    {
      "cell_type": "code",
      "metadata": {
        "id": "dDlKaErLia_P",
        "colab_type": "code",
        "colab": {
          "base_uri": "https://localhost:8080/",
          "height": 34
        },
        "outputId": "566ad7bc-0890-4ef5-91be-d643a183b86d"
      },
      "source": [
        "spacy.prefer_gpu()"
      ],
      "execution_count": 50,
      "outputs": [
        {
          "output_type": "execute_result",
          "data": {
            "text/plain": [
              "False"
            ]
          },
          "metadata": {
            "tags": []
          },
          "execution_count": 50
        }
      ]
    },
    {
      "cell_type": "markdown",
      "metadata": {
        "id": "0yry4Xomxkau",
        "colab_type": "text"
      },
      "source": [
        ""
      ]
    },
    {
      "cell_type": "code",
      "metadata": {
        "id": "zmLduJkt3__U",
        "colab_type": "code",
        "colab": {}
      },
      "source": [
        "nlp = spacy.load(\"en_core_web_sm\")"
      ],
      "execution_count": 0,
      "outputs": []
    },
    {
      "cell_type": "code",
      "metadata": {
        "id": "w9COvEpq4MeY",
        "colab_type": "code",
        "colab": {}
      },
      "source": [
        "doc = nlp(\"All rights reserved. This book or any portion thereof may not be reproduced or used in any manner whatsoever without the express written permission of the publisher except for the use of brief quotations in a book review.\")"
      ],
      "execution_count": 0,
      "outputs": []
    },
    {
      "cell_type": "markdown",
      "metadata": {
        "id": "i2gR2gmHxnH8",
        "colab_type": "text"
      },
      "source": [
        "Tokenization and Pos Tagging using Spacy"
      ]
    },
    {
      "cell_type": "code",
      "metadata": {
        "id": "lk112P3dEUfe",
        "colab_type": "code",
        "colab": {
          "base_uri": "https://localhost:8080/",
          "height": 697
        },
        "outputId": "e7d7705c-84d2-4d54-e046-34733c12b332"
      },
      "source": [
        "for token in doc:\n",
        "  print(token.text,\" --> \",token.pos_)"
      ],
      "execution_count": 61,
      "outputs": [
        {
          "output_type": "stream",
          "text": [
            "All  -->  DET\n",
            "rights  -->  NOUN\n",
            "reserved  -->  VERB\n",
            ".  -->  PUNCT\n",
            "This  -->  DET\n",
            "book  -->  NOUN\n",
            "or  -->  CCONJ\n",
            "any  -->  DET\n",
            "portion  -->  NOUN\n",
            "thereof  -->  ADV\n",
            "may  -->  VERB\n",
            "not  -->  PART\n",
            "be  -->  AUX\n",
            "reproduced  -->  VERB\n",
            "or  -->  CCONJ\n",
            "used  -->  VERB\n",
            "in  -->  ADP\n",
            "any  -->  DET\n",
            "manner  -->  NOUN\n",
            "whatsoever  -->  ADV\n",
            "without  -->  ADP\n",
            "the  -->  DET\n",
            "express  -->  PROPN\n",
            "written  -->  VERB\n",
            "permission  -->  NOUN\n",
            "of  -->  ADP\n",
            "the  -->  DET\n",
            "publisher  -->  NOUN\n",
            "except  -->  SCONJ\n",
            "for  -->  ADP\n",
            "the  -->  DET\n",
            "use  -->  NOUN\n",
            "of  -->  ADP\n",
            "brief  -->  ADJ\n",
            "quotations  -->  NOUN\n",
            "in  -->  ADP\n",
            "a  -->  DET\n",
            "book  -->  NOUN\n",
            "review  -->  NOUN\n",
            ".  -->  PUNCT\n"
          ],
          "name": "stdout"
        }
      ]
    },
    {
      "cell_type": "code",
      "metadata": {
        "id": "x5PkgOFrUn-b",
        "colab_type": "code",
        "colab": {}
      },
      "source": [
        "v= []\n",
        "for token in doc:\n",
        "  v.append(token.text)"
      ],
      "execution_count": 0,
      "outputs": []
    },
    {
      "cell_type": "code",
      "metadata": {
        "id": "7oWGiorBVHCQ",
        "colab_type": "code",
        "colab": {
          "base_uri": "https://localhost:8080/",
          "height": 697
        },
        "outputId": "6658dace-4885-49a5-ad3c-d5e2f9206cb1"
      },
      "source": [
        "v"
      ],
      "execution_count": 70,
      "outputs": [
        {
          "output_type": "execute_result",
          "data": {
            "text/plain": [
              "['All',\n",
              " 'rights',\n",
              " 'reserved',\n",
              " '.',\n",
              " 'This',\n",
              " 'book',\n",
              " 'or',\n",
              " 'any',\n",
              " 'portion',\n",
              " 'thereof',\n",
              " 'may',\n",
              " 'not',\n",
              " 'be',\n",
              " 'reproduced',\n",
              " 'or',\n",
              " 'used',\n",
              " 'in',\n",
              " 'any',\n",
              " 'manner',\n",
              " 'whatsoever',\n",
              " 'without',\n",
              " 'the',\n",
              " 'express',\n",
              " 'written',\n",
              " 'permission',\n",
              " 'of',\n",
              " 'the',\n",
              " 'publisher',\n",
              " 'except',\n",
              " 'for',\n",
              " 'the',\n",
              " 'use',\n",
              " 'of',\n",
              " 'brief',\n",
              " 'quotations',\n",
              " 'in',\n",
              " 'a',\n",
              " 'book',\n",
              " 'review',\n",
              " '.']"
            ]
          },
          "metadata": {
            "tags": []
          },
          "execution_count": 70
        }
      ]
    },
    {
      "cell_type": "code",
      "metadata": {
        "id": "iZkmEjpSVz8_",
        "colab_type": "code",
        "colab": {}
      },
      "source": [
        "import pandas as pd"
      ],
      "execution_count": 0,
      "outputs": []
    },
    {
      "cell_type": "code",
      "metadata": {
        "id": "EJ4m7bSZXK9C",
        "colab_type": "code",
        "colab": {}
      },
      "source": [
        "data = pd.DataFrame(data=v,columns=['Tokenization'])"
      ],
      "execution_count": 0,
      "outputs": []
    },
    {
      "cell_type": "code",
      "metadata": {
        "id": "Ni8q9M36XQdV",
        "colab_type": "code",
        "colab": {
          "base_uri": "https://localhost:8080/",
          "height": 1000
        },
        "outputId": "2226fe27-ac98-4e83-90d4-1687376a776e"
      },
      "source": [
        "data"
      ],
      "execution_count": 76,
      "outputs": [
        {
          "output_type": "execute_result",
          "data": {
            "text/html": [
              "<div>\n",
              "<style scoped>\n",
              "    .dataframe tbody tr th:only-of-type {\n",
              "        vertical-align: middle;\n",
              "    }\n",
              "\n",
              "    .dataframe tbody tr th {\n",
              "        vertical-align: top;\n",
              "    }\n",
              "\n",
              "    .dataframe thead th {\n",
              "        text-align: right;\n",
              "    }\n",
              "</style>\n",
              "<table border=\"1\" class=\"dataframe\">\n",
              "  <thead>\n",
              "    <tr style=\"text-align: right;\">\n",
              "      <th></th>\n",
              "      <th>Tokenization</th>\n",
              "    </tr>\n",
              "  </thead>\n",
              "  <tbody>\n",
              "    <tr>\n",
              "      <th>0</th>\n",
              "      <td>All</td>\n",
              "    </tr>\n",
              "    <tr>\n",
              "      <th>1</th>\n",
              "      <td>rights</td>\n",
              "    </tr>\n",
              "    <tr>\n",
              "      <th>2</th>\n",
              "      <td>reserved</td>\n",
              "    </tr>\n",
              "    <tr>\n",
              "      <th>3</th>\n",
              "      <td>.</td>\n",
              "    </tr>\n",
              "    <tr>\n",
              "      <th>4</th>\n",
              "      <td>This</td>\n",
              "    </tr>\n",
              "    <tr>\n",
              "      <th>5</th>\n",
              "      <td>book</td>\n",
              "    </tr>\n",
              "    <tr>\n",
              "      <th>6</th>\n",
              "      <td>or</td>\n",
              "    </tr>\n",
              "    <tr>\n",
              "      <th>7</th>\n",
              "      <td>any</td>\n",
              "    </tr>\n",
              "    <tr>\n",
              "      <th>8</th>\n",
              "      <td>portion</td>\n",
              "    </tr>\n",
              "    <tr>\n",
              "      <th>9</th>\n",
              "      <td>thereof</td>\n",
              "    </tr>\n",
              "    <tr>\n",
              "      <th>10</th>\n",
              "      <td>may</td>\n",
              "    </tr>\n",
              "    <tr>\n",
              "      <th>11</th>\n",
              "      <td>not</td>\n",
              "    </tr>\n",
              "    <tr>\n",
              "      <th>12</th>\n",
              "      <td>be</td>\n",
              "    </tr>\n",
              "    <tr>\n",
              "      <th>13</th>\n",
              "      <td>reproduced</td>\n",
              "    </tr>\n",
              "    <tr>\n",
              "      <th>14</th>\n",
              "      <td>or</td>\n",
              "    </tr>\n",
              "    <tr>\n",
              "      <th>15</th>\n",
              "      <td>used</td>\n",
              "    </tr>\n",
              "    <tr>\n",
              "      <th>16</th>\n",
              "      <td>in</td>\n",
              "    </tr>\n",
              "    <tr>\n",
              "      <th>17</th>\n",
              "      <td>any</td>\n",
              "    </tr>\n",
              "    <tr>\n",
              "      <th>18</th>\n",
              "      <td>manner</td>\n",
              "    </tr>\n",
              "    <tr>\n",
              "      <th>19</th>\n",
              "      <td>whatsoever</td>\n",
              "    </tr>\n",
              "    <tr>\n",
              "      <th>20</th>\n",
              "      <td>without</td>\n",
              "    </tr>\n",
              "    <tr>\n",
              "      <th>21</th>\n",
              "      <td>the</td>\n",
              "    </tr>\n",
              "    <tr>\n",
              "      <th>22</th>\n",
              "      <td>express</td>\n",
              "    </tr>\n",
              "    <tr>\n",
              "      <th>23</th>\n",
              "      <td>written</td>\n",
              "    </tr>\n",
              "    <tr>\n",
              "      <th>24</th>\n",
              "      <td>permission</td>\n",
              "    </tr>\n",
              "    <tr>\n",
              "      <th>25</th>\n",
              "      <td>of</td>\n",
              "    </tr>\n",
              "    <tr>\n",
              "      <th>26</th>\n",
              "      <td>the</td>\n",
              "    </tr>\n",
              "    <tr>\n",
              "      <th>27</th>\n",
              "      <td>publisher</td>\n",
              "    </tr>\n",
              "    <tr>\n",
              "      <th>28</th>\n",
              "      <td>except</td>\n",
              "    </tr>\n",
              "    <tr>\n",
              "      <th>29</th>\n",
              "      <td>for</td>\n",
              "    </tr>\n",
              "    <tr>\n",
              "      <th>30</th>\n",
              "      <td>the</td>\n",
              "    </tr>\n",
              "    <tr>\n",
              "      <th>31</th>\n",
              "      <td>use</td>\n",
              "    </tr>\n",
              "    <tr>\n",
              "      <th>32</th>\n",
              "      <td>of</td>\n",
              "    </tr>\n",
              "    <tr>\n",
              "      <th>33</th>\n",
              "      <td>brief</td>\n",
              "    </tr>\n",
              "    <tr>\n",
              "      <th>34</th>\n",
              "      <td>quotations</td>\n",
              "    </tr>\n",
              "    <tr>\n",
              "      <th>35</th>\n",
              "      <td>in</td>\n",
              "    </tr>\n",
              "    <tr>\n",
              "      <th>36</th>\n",
              "      <td>a</td>\n",
              "    </tr>\n",
              "    <tr>\n",
              "      <th>37</th>\n",
              "      <td>book</td>\n",
              "    </tr>\n",
              "    <tr>\n",
              "      <th>38</th>\n",
              "      <td>review</td>\n",
              "    </tr>\n",
              "    <tr>\n",
              "      <th>39</th>\n",
              "      <td>.</td>\n",
              "    </tr>\n",
              "  </tbody>\n",
              "</table>\n",
              "</div>"
            ],
            "text/plain": [
              "   Tokenization\n",
              "0           All\n",
              "1        rights\n",
              "2      reserved\n",
              "3             .\n",
              "4          This\n",
              "5          book\n",
              "6            or\n",
              "7           any\n",
              "8       portion\n",
              "9       thereof\n",
              "10          may\n",
              "11          not\n",
              "12           be\n",
              "13   reproduced\n",
              "14           or\n",
              "15         used\n",
              "16           in\n",
              "17          any\n",
              "18       manner\n",
              "19   whatsoever\n",
              "20      without\n",
              "21          the\n",
              "22      express\n",
              "23      written\n",
              "24   permission\n",
              "25           of\n",
              "26          the\n",
              "27    publisher\n",
              "28       except\n",
              "29          for\n",
              "30          the\n",
              "31          use\n",
              "32           of\n",
              "33        brief\n",
              "34   quotations\n",
              "35           in\n",
              "36            a\n",
              "37         book\n",
              "38       review\n",
              "39            ."
            ]
          },
          "metadata": {
            "tags": []
          },
          "execution_count": 76
        }
      ]
    },
    {
      "cell_type": "code",
      "metadata": {
        "id": "qvd2Cu8VXSDg",
        "colab_type": "code",
        "colab": {}
      },
      "source": [
        ""
      ],
      "execution_count": 0,
      "outputs": []
    }
  ]
}